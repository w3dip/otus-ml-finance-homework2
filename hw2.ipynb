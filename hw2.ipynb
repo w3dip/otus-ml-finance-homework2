{
 "cells": [
  {
   "metadata": {
    "ExecuteTime": {
     "end_time": "2024-10-25T11:23:00.358191Z",
     "start_time": "2024-10-25T11:23:00.354643Z"
    }
   },
   "cell_type": "code",
   "source": [
    "import warnings\n",
    "warnings.filterwarnings(\"ignore\")"
   ],
   "id": "875c0cc3bbad26e",
   "outputs": [],
   "execution_count": 1
  },
  {
   "metadata": {
    "ExecuteTime": {
     "end_time": "2024-10-25T11:23:07.998218Z",
     "start_time": "2024-10-25T11:23:00.367592Z"
    }
   },
   "cell_type": "code",
   "source": [
    "!pip install yfinance -q\n",
    "\n",
    "import yfinance as yf"
   ],
   "id": "25546d57d6752de3",
   "outputs": [],
   "execution_count": 2
  },
  {
   "metadata": {
    "ExecuteTime": {
     "end_time": "2024-10-25T11:24:46.048420Z",
     "start_time": "2024-10-25T11:24:41.546862Z"
    }
   },
   "cell_type": "code",
   "source": [
    "#python должен быть версии 3.6-3.9 для установки numpy==1.19.5. Эта версия нужна для работы ta-lib\n",
    "!pip uninstall -y numpy\n",
    "!pip install numpy==1.24.4 -q\n",
    "\n",
    "import numpy as np"
   ],
   "id": "1c75b56bc4a4b0d6",
   "outputs": [
    {
     "name": "stdout",
     "output_type": "stream",
     "text": [
      "Found existing installation: numpy 1.24.4\r\n",
      "Uninstalling numpy-1.24.4:\r\n",
      "  Successfully uninstalled numpy-1.24.4\r\n"
     ]
    }
   ],
   "execution_count": 8
  },
  {
   "metadata": {
    "ExecuteTime": {
     "end_time": "2024-10-25T11:23:13.482651Z",
     "start_time": "2024-10-25T11:23:12.388972Z"
    }
   },
   "cell_type": "code",
   "source": [
    "# работа выполнялась на MacOS 10.15\n",
    "# предварительно запустить brew install ta-lib\n",
    "!pip install TA-Lib -q\n",
    "\n",
    "import talib"
   ],
   "id": "37ef1fbf211efa4c",
   "outputs": [],
   "execution_count": 4
  },
  {
   "metadata": {
    "ExecuteTime": {
     "end_time": "2024-10-25T11:23:37.028489Z",
     "start_time": "2024-10-25T11:23:13.491473Z"
    }
   },
   "cell_type": "code",
   "source": [
    "!pip install plotly -q\n",
    "\n",
    "import plotly.graph_objects as go\n",
    "\n",
    "def linear_plot(df, title):\n",
    "    fig = go.Figure([go.Scatter(x=df['date'], y=df['close'], mode='lines')])\n",
    "    fig.update_layout(plot_bgcolor='white', \n",
    "                      xaxis_title='Date',\n",
    "                      yaxis_title='Price',\n",
    "                      title=title)\n",
    "    fig.show()\n",
    "\n",
    "def candlestick_plot(df, title):\n",
    "    fig = go.Figure([go.Candlestick(x=df['date'], \n",
    "                                open=df['open'],\n",
    "                                high=df['high'],\n",
    "                                low=df['low'],\n",
    "                                close=df['close'])])\n",
    "    fig.update_layout(xaxis_rangeslider_visible=False,\n",
    "                      plot_bgcolor='white',\n",
    "                      xaxis_title='Date',\n",
    "                      yaxis_title='Price',\n",
    "                      title=title)\n",
    "    fig.update_yaxes(fixedrange=False)\n",
    "    fig.show()\n",
    "    "
   ],
   "id": "802bc6f134f7f7fe",
   "outputs": [],
   "execution_count": 5
  },
  {
   "metadata": {
    "ExecuteTime": {
     "end_time": "2024-10-25T11:23:37.040900Z",
     "start_time": "2024-10-25T11:23:37.038030Z"
    }
   },
   "cell_type": "code",
   "source": "import pandas as pd",
   "id": "ca378668e505e452",
   "outputs": [],
   "execution_count": 6
  }
 ],
 "metadata": {
  "kernelspec": {
   "display_name": "Python 3",
   "language": "python",
   "name": "python3"
  },
  "language_info": {
   "codemirror_mode": {
    "name": "ipython",
    "version": 2
   },
   "file_extension": ".py",
   "mimetype": "text/x-python",
   "name": "python",
   "nbconvert_exporter": "python",
   "pygments_lexer": "ipython2",
   "version": "2.7.6"
  }
 },
 "nbformat": 4,
 "nbformat_minor": 5
}
